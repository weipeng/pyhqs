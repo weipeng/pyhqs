{
 "cells": [
  {
   "cell_type": "code",
   "execution_count": 5,
   "metadata": {},
   "outputs": [],
   "source": [
    "import networkx as nx\n",
    "import ujson as json\n"
   ]
  },
  {
   "cell_type": "code",
   "execution_count": 6,
   "metadata": {},
   "outputs": [],
   "source": [
    "def Z_to_tree(n, Z):\n",
    "    edge_iter = [(i+n, node) for i, nodes in enumerate(Z)\n",
    "                             for _, node in enumerate(nodes)]\n",
    "    tree = nx.DiGraph()\n",
    "    tree.add_edges_from(edge_iter)\n",
    "    return tree"
   ]
  },
  {
   "cell_type": "code",
   "execution_count": 7,
   "metadata": {},
   "outputs": [],
   "source": [
    "def load_json(fname):\n",
    "    with open(fname, 'rb') as f:\n",
    "        return json.load(f)"
   ]
  },
  {
   "cell_type": "code",
   "execution_count": 8,
   "metadata": {},
   "outputs": [],
   "source": [
    "def load_json_Z(fname):\n",
    "    Z = load_json(fname)\n",
    "    return Z"
   ]
  },
  {
   "cell_type": "code",
   "execution_count": 17,
   "metadata": {},
   "outputs": [],
   "source": [
    "Z = load_json_Z('output/cifar100_agg/cifar100_agg_0_Z.json')"
   ]
  },
  {
   "cell_type": "code",
   "execution_count": 18,
   "metadata": {},
   "outputs": [],
   "source": [
    "n = 10000"
   ]
  },
  {
   "cell_type": "code",
   "execution_count": 19,
   "metadata": {},
   "outputs": [],
   "source": [
    "tree = Z_to_tree(n, Z)"
   ]
  },
  {
   "cell_type": "code",
   "execution_count": 21,
   "metadata": {},
   "outputs": [
    {
     "name": "stdout",
     "output_type": "stream",
     "text": [
      "edges: 27\n",
      "nodes: 19999\n"
     ]
    }
   ],
   "source": [
    "print('edges:', nx.dag_longest_path_length(tree))\n",
    "print('nodes:', tree.number_of_nodes())"
   ]
  },
  {
   "cell_type": "code",
   "execution_count": 30,
   "metadata": {},
   "outputs": [
    {
     "name": "stdout",
     "output_type": "stream",
     "text": [
      "edges: 32\n",
      "nodes: 19999\n"
     ]
    }
   ],
   "source": [
    "n = 10000\n",
    "\n",
    "Z = load_json_Z('output/cifar100_randagg/cifar100_randagg_0_Z.json')\n",
    "tree = Z_to_tree(n, Z)\n",
    "\n",
    "print('edges:', nx.dag_longest_path_length(tree))\n",
    "print('nodes:', tree.number_of_nodes())"
   ]
  },
  {
   "cell_type": "code",
   "execution_count": 26,
   "metadata": {},
   "outputs": [
    {
     "name": "stdout",
     "output_type": "stream",
     "text": [
      "edges: 65\n",
      "nodes: 75651\n"
     ]
    }
   ],
   "source": [
    "n = 37826\n",
    "\n",
    "Z = load_json_Z('output/amazon-large_agg/amazon-large_agg_0_Z.json')\n",
    "tree = Z_to_tree(n, Z)\n",
    "\n",
    "print('edges:', nx.dag_longest_path_length(tree))\n",
    "print('nodes:', tree.number_of_nodes())"
   ]
  },
  {
   "cell_type": "code",
   "execution_count": 27,
   "metadata": {},
   "outputs": [
    {
     "name": "stdout",
     "output_type": "stream",
     "text": [
      "edges: 32\n",
      "nodes: 75650\n"
     ]
    }
   ],
   "source": [
    "n = 37826\n",
    "\n",
    "Z = load_json_Z('output/amazon-large_randagg/amazon-large_randagg_0_Z.json')\n",
    "tree = Z_to_tree(n, Z)\n",
    "print('edges:', nx.dag_longest_path_length(tree))\n",
    "print('nodes:', tree.number_of_nodes())"
   ]
  },
  {
   "cell_type": "code",
   "execution_count": null,
   "metadata": {},
   "outputs": [],
   "source": []
  }
 ],
 "metadata": {
  "kernelspec": {
   "display_name": "Python 3",
   "language": "python",
   "name": "python3"
  },
  "language_info": {
   "codemirror_mode": {
    "name": "ipython",
    "version": 3
   },
   "file_extension": ".py",
   "mimetype": "text/x-python",
   "name": "python",
   "nbconvert_exporter": "python",
   "pygments_lexer": "ipython3",
   "version": "3.7.6"
  }
 },
 "nbformat": 4,
 "nbformat_minor": 4
}
