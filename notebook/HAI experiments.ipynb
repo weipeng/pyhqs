{
 "cells": [
  {
   "cell_type": "code",
   "execution_count": 3,
   "metadata": {},
   "outputs": [],
   "source": [
    "import sys  \n",
    "\n",
    "sys.path.append('..')\n",
    "sys.path.append('../hierarchies/')\n",
    "sys.path.append('../datahandler/')\n",
    "\n",
    "\n",
    "from treeutil import *\n",
    "from hierarchy import *\n",
    "from clusterloader import *\n",
    "\n",
    "from scipy.sparse import csr_matrix, load_npz\n"
   ]
  },
  {
   "cell_type": "code",
   "execution_count": 53,
   "metadata": {},
   "outputs": [],
   "source": [
    "\n",
    "def hai_single_unnorm(xi, xj, hier):\n",
    "    a_node = find_closet_ancestor(xi, xj, hier)\n",
    "\n",
    "    s = 0 if a_node is None else hier.node_size[a_node]\n",
    "    return s\n",
    "    \n",
    "def hai(n, h1, h2):\n",
    "\n",
    "    h_score = 0.\n",
    "    for i in range(n):\n",
    "        for j in range(n):\n",
    "            s1 = hai_single_unnorm(i, j, h1) \n",
    "            s2 = hai_single_unnorm(i, j, h2) \n",
    "            \n",
    "            h_score += np.absolute(s1 - s2) / n\n",
    "            \n",
    "    return 1 - h_score / (n**2)\n",
    "\n",
    "def find_closet_ancestor(xi, xj, hier):\n",
    "    traj1 = hier.traj(xi)\n",
    "    traj2 = hier.traj(xj)\n",
    "    \n",
    "    a_node = min(set(traj1) & set(traj2))\n",
    "        \n",
    "    if a_node == hier.parents[xi] == hier.parents[xj]:\n",
    "        a_node = None\n",
    "    \n",
    "    return a_node \n"
   ]
  },
  {
   "cell_type": "code",
   "execution_count": 54,
   "metadata": {},
   "outputs": [],
   "source": [
    "data = load_npz('../data/amazon_hqs.npz')\n",
    "\n",
    "n = data.shape[0]"
   ]
  },
  {
   "cell_type": "code",
   "execution_count": 55,
   "metadata": {},
   "outputs": [
    {
     "data": {
      "text/plain": [
       "<hierarchy.Hierarchy at 0x7fcf5574cf10>"
      ]
     },
     "execution_count": 55,
     "metadata": {},
     "output_type": "execute_result"
    }
   ],
   "source": [
    "gt_Z = load_json_Z('../data/amazon_tree_1_Z.json')\n",
    "\n",
    "gt = Hierarchy(data, gt_Z)\n",
    "\n",
    "gt"
   ]
  },
  {
   "cell_type": "code",
   "execution_count": 56,
   "metadata": {},
   "outputs": [
    {
     "data": {
      "text/plain": [
       "0.6388888888888888"
      ]
     },
     "execution_count": 56,
     "metadata": {},
     "output_type": "execute_result"
    }
   ],
   "source": [
    "h2_Z = load_json_Z('../data/amazon_tree_2_Z.json')\n",
    "\n",
    "h2 = Hierarchy(data, h2_Z)\n",
    "\n",
    "hai(n, h2, gt)"
   ]
  },
  {
   "cell_type": "code",
   "execution_count": 57,
   "metadata": {},
   "outputs": [
    {
     "data": {
      "text/plain": [
       "0.45833333333333337"
      ]
     },
     "execution_count": 57,
     "metadata": {},
     "output_type": "execute_result"
    }
   ],
   "source": [
    "h3_Z = load_json_Z('../data/amazon_tree_3_Z.json')\n",
    "\n",
    "h3 = Hierarchy(data, h3_Z)\n",
    "\n",
    "hai(n, h3, gt)"
   ]
  },
  {
   "cell_type": "code",
   "execution_count": 58,
   "metadata": {},
   "outputs": [
    {
     "data": {
      "text/plain": [
       "0.5833333333333333"
      ]
     },
     "execution_count": 58,
     "metadata": {},
     "output_type": "execute_result"
    }
   ],
   "source": [
    "h4_Z = load_json_Z('../data/amazon_tree_4_Z.json')\n",
    "\n",
    "h4 = Hierarchy(data, h4_Z)\n",
    "\n",
    "hai(n, h4, gt)"
   ]
  },
  {
   "cell_type": "code",
   "execution_count": 59,
   "metadata": {},
   "outputs": [
    {
     "data": {
      "text/plain": [
       "0.8541666666666666"
      ]
     },
     "execution_count": 59,
     "metadata": {},
     "output_type": "execute_result"
    }
   ],
   "source": [
    "h5_Z = load_json_Z('../data/amazon_tree_5_Z.json')\n",
    "\n",
    "h5 = Hierarchy(data, h5_Z)\n",
    "\n",
    "hai(n, h5, gt)"
   ]
  },
  {
   "cell_type": "code",
   "execution_count": null,
   "metadata": {},
   "outputs": [],
   "source": []
  },
  {
   "cell_type": "code",
   "execution_count": 74,
   "metadata": {},
   "outputs": [],
   "source": [
    "a = np.array([.672, -.28, -.31, -.648, .327])"
   ]
  },
  {
   "cell_type": "code",
   "execution_count": 75,
   "metadata": {},
   "outputs": [],
   "source": [
    "c = (1 + a) / 2"
   ]
  },
  {
   "cell_type": "code",
   "execution_count": 76,
   "metadata": {},
   "outputs": [],
   "source": [
    "c /= c.max()"
   ]
  },
  {
   "cell_type": "code",
   "execution_count": 77,
   "metadata": {},
   "outputs": [
    {
     "data": {
      "text/plain": [
       "array([1.        , 0.43062201, 0.41267943, 0.21052632, 0.79366029])"
      ]
     },
     "execution_count": 77,
     "metadata": {},
     "output_type": "execute_result"
    }
   ],
   "source": [
    "c"
   ]
  },
  {
   "cell_type": "code",
   "execution_count": null,
   "metadata": {},
   "outputs": [],
   "source": []
  }
 ],
 "metadata": {
  "kernelspec": {
   "display_name": "Python 3",
   "language": "python",
   "name": "python3"
  },
  "language_info": {
   "codemirror_mode": {
    "name": "ipython",
    "version": 3
   },
   "file_extension": ".py",
   "mimetype": "text/x-python",
   "name": "python",
   "nbconvert_exporter": "python",
   "pygments_lexer": "ipython3",
   "version": "3.7.7"
  }
 },
 "nbformat": 4,
 "nbformat_minor": 4
}
