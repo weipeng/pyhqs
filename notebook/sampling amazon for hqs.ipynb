{
 "cells": [
  {
   "cell_type": "code",
   "execution_count": 20,
   "metadata": {},
   "outputs": [],
   "source": [
    "import ujson\n",
    "import pandas as pd\n",
    "from pprint import pprint\n",
    "import numpy as np\n",
    "import re\n",
    "from nltk import word_tokenize\n",
    "from nltk.corpus import stopwords\n",
    "from nltk.stem import SnowballStemmer\n",
    "import scipy.sparse\n",
    "from sklearn.feature_extraction.text import TfidfVectorizer, CountVectorizer\n",
    "from collections import OrderedDict\n",
    "pd.set_option('display.max_colwidth', -1)\n"
   ]
  },
  {
   "cell_type": "code",
   "execution_count": 43,
   "metadata": {
    "scrolled": true
   },
   "outputs": [],
   "source": [
    "# from random import random\n",
    "\n",
    "# items = []\n",
    "# with open('./metadata.json', 'r') as f:\n",
    "#     for item in f:\n",
    "#         if random() > 0.5:\n",
    "#             continue \n",
    "            \n",
    "#         jstr = item.strip().replace(\"'s\", \" \")\n",
    "#         jstr = item.strip().replace(\"'\", \"\\\"\")\n",
    "#         jstr = jstr.replace(\"\\n\", \" \")\n",
    "        \n",
    "#         try:\n",
    "#             jobj = ujson.loads(jstr)    \n",
    "#         except:\n",
    "#             continue\n",
    "        \n",
    "#         if not ('categories' in jobj and 'description' in jobj):\n",
    "#             continue \n",
    "# #         print(jobj['categories'][0][0])\n",
    "#         if jobj['categories'][0][0] != 'Cell Phones & Accessories':\n",
    "#             continue \n",
    "            \n",
    "#         if len(jobj['categories']) != 1:\n",
    "#             continue \n",
    "\n",
    "#         if len(jobj['description'].split(\" \")) < 10:\n",
    "#             continue \n",
    "            \n",
    "#         if len(jobj['categories'][0]) != 4:\n",
    "#             continue \n",
    "# #         print(jobj)\n",
    "        \n",
    "# #         print(jobj['categories'])\n",
    "#         items.append(jobj)\n",
    "        \n",
    "# print(len(items))"
   ]
  },
  {
   "cell_type": "code",
   "execution_count": 44,
   "metadata": {
    "scrolled": true
   },
   "outputs": [],
   "source": [
    "\n",
    "\n",
    "# stuff = []\n",
    "# uniqs = set()\n",
    "# for _, item in enumerate(items):\n",
    "#     if len(item['categories']) > 1:\n",
    "#         continue\n",
    "    \n",
    "# #     print(item['categories'][0][0])\n",
    "#     uniqs.add(item['categories'][0][0])\n",
    "#     for i, category in enumerate(item['categories']):\n",
    "#         item['categories {}'.format(i)] = '.'.join(category)\n",
    "\n",
    "#     stuff.append(item)\n",
    "    \n",
    "# pprint(list(uniqs))\n"
   ]
  },
  {
   "cell_type": "code",
   "execution_count": 42,
   "metadata": {
    "scrolled": true
   },
   "outputs": [],
   "source": [
    "# import numpy as np\n",
    "# np.random.seed(1)\n",
    "\n",
    "# sampled_items1 = np.random.choice(items, 50)\n",
    "# # pprint(sampled_items)\n",
    "# for item in sampled_items1:\n",
    "#     print(item['asin'])\n",
    "#     print(item['title'])\n",
    "#     print(item['categories'], '\\n')"
   ]
  },
  {
   "cell_type": "code",
   "execution_count": 188,
   "metadata": {
    "scrolled": true
   },
   "outputs": [],
   "source": [
    "# indices1 = ['B003XU6S8M', 'B007B5YUMQ'] # graphical cards\n",
    "# indices1 += ['B004FLNBQA', 'B003R4R77K', 'B00744RR8S'] # Chargers & Adapters'"
   ]
  },
  {
   "cell_type": "code",
   "execution_count": null,
   "metadata": {
    "scrolled": true
   },
   "outputs": [],
   "source": [
    "# np.random.seed(1)\n",
    "\n",
    "# sampled_items2 = np.random.choice(items, 30)\n",
    "# # pprint(sampled_items)\n",
    "# for item in sampled_items2:\n",
    "#     print(item['asin'])\n",
    "#     print(item['title'])\n",
    "#     print(item['categories'], '\\n')\n",
    "    "
   ]
  },
  {
   "cell_type": "code",
   "execution_count": 54,
   "metadata": {},
   "outputs": [],
   "source": [
    "# indices2 = ['B003WU2U4E', 'B00K899734'] # Car chargers\n",
    "# indices2 += ['B006P4NOU8', 'B004836B6M', 'B000EWX75Y'] # Wired headsets"
   ]
  },
  {
   "cell_type": "code",
   "execution_count": 45,
   "metadata": {},
   "outputs": [],
   "source": [
    "# index_set = set(indices1 + indices2)\n",
    "\n",
    "# indices = []\n",
    "# for i, item in enumerate(items):\n",
    "#     if item['asin'] in index_set:\n",
    "#         indices.append(i)\n",
    "\n",
    "# print(len(indices))\n",
    "# indices"
   ]
  },
  {
   "cell_type": "code",
   "execution_count": 2,
   "metadata": {},
   "outputs": [
    {
     "name": "stdout",
     "output_type": "stream",
     "text": [
      "7590\n"
     ]
    }
   ],
   "source": [
    "from random import random\n",
    "\n",
    "items = []\n",
    "with open('./metadata.json', 'r') as f:\n",
    "    for item in f:\n",
    "#         if random() > 0.5:\n",
    "#             continue \n",
    "            \n",
    "        jstr = item.strip().replace(\"'s\", \" \")\n",
    "        jstr = item.strip().replace(\"'\", \"\\\"\")\n",
    "        jstr = jstr.replace(\"\\n\", \" \")\n",
    "        \n",
    "        try:\n",
    "            jobj = ujson.loads(jstr)    \n",
    "        except:\n",
    "            continue\n",
    "        \n",
    "        if not ('categories' in jobj and 'description' in jobj):\n",
    "            continue \n",
    "#         print(jobj['categories'][0][0])\n",
    "        if jobj['categories'][0][0] not in set(['Clothing, Shoes & Jewelry']):\n",
    "#         if jobj['categories'][0][0] not in set(['Cell Phones & Accessories', \n",
    "#                                                 'Electronics']):\n",
    "            continue \n",
    "            \n",
    "        if len(jobj['categories']) != 1:\n",
    "            continue \n",
    "\n",
    "        if len(jobj['description'].split(\" \")) < 10:\n",
    "            continue \n",
    "            \n",
    "        if len(jobj['categories'][0]) != 4:\n",
    "            continue \n",
    "#         print(jobj)\n",
    "        \n",
    "#         print(jobj['categories'])\n",
    "        items.append(jobj)\n",
    "        \n",
    "print(len(items))"
   ]
  },
  {
   "cell_type": "code",
   "execution_count": 5,
   "metadata": {},
   "outputs": [
    {
     "name": "stdout",
     "output_type": "stream",
     "text": [
      "{'Clothing, Shoes & Jewelry.Baby.Baby Boys.Accessories',\n",
      " 'Clothing, Shoes & Jewelry.Baby.Baby Boys.Clothing',\n",
      " 'Clothing, Shoes & Jewelry.Baby.Baby Girls.Accessories',\n",
      " 'Clothing, Shoes & Jewelry.Baby.Baby Girls.Clothing',\n",
      " 'Clothing, Shoes & Jewelry.Boys.Accessories.Belts',\n",
      " 'Clothing, Shoes & Jewelry.Boys.Accessories.Cold Weather',\n",
      " 'Clothing, Shoes & Jewelry.Boys.Accessories.Hats & Caps',\n",
      " 'Clothing, Shoes & Jewelry.Boys.Accessories.Neckties',\n",
      " 'Clothing, Shoes & Jewelry.Boys.Accessories.Sunglasses',\n",
      " 'Clothing, Shoes & Jewelry.Boys.Clothing.Active',\n",
      " 'Clothing, Shoes & Jewelry.Boys.Clothing.Fashion Hoodies & Sweatshirts',\n",
      " 'Clothing, Shoes & Jewelry.Boys.Clothing.Jackets & Coats',\n",
      " 'Clothing, Shoes & Jewelry.Boys.Clothing.Socks',\n",
      " 'Clothing, Shoes & Jewelry.Boys.Shoes.Boots',\n",
      " 'Clothing, Shoes & Jewelry.Boys.Shoes.Clogs & Mules',\n",
      " 'Clothing, Shoes & Jewelry.Boys.Shoes.Sandals',\n",
      " 'Clothing, Shoes & Jewelry.Boys.Shoes.Slippers',\n",
      " 'Clothing, Shoes & Jewelry.Boys.Watches.Watch Bands',\n",
      " 'Clothing, Shoes & Jewelry.Boys.Watches.Wrist Watches',\n",
      " 'Clothing, Shoes & Jewelry.Girls.Accessories.Belts',\n",
      " 'Clothing, Shoes & Jewelry.Girls.Accessories.Cold Weather',\n",
      " 'Clothing, Shoes & Jewelry.Girls.Accessories.Fashion Scarves',\n",
      " 'Clothing, Shoes & Jewelry.Girls.Accessories.Hats & Caps',\n",
      " 'Clothing, Shoes & Jewelry.Girls.Accessories.Sunglasses',\n",
      " 'Clothing, Shoes & Jewelry.Girls.Clothing.Active',\n",
      " 'Clothing, Shoes & Jewelry.Girls.Clothing.Fashion Hoodies & Sweatshirts',\n",
      " 'Clothing, Shoes & Jewelry.Girls.Clothing.Jackets & Coats',\n",
      " 'Clothing, Shoes & Jewelry.Girls.Clothing.Leggings',\n",
      " 'Clothing, Shoes & Jewelry.Girls.Clothing.Shorts',\n",
      " 'Clothing, Shoes & Jewelry.Girls.Clothing.Skirts, Scooters & Skorts',\n",
      " 'Clothing, Shoes & Jewelry.Girls.Clothing.Socks & Tights',\n",
      " 'Clothing, Shoes & Jewelry.Girls.Jewelry.Bracelets',\n",
      " 'Clothing, Shoes & Jewelry.Girls.Shoes.Athletic',\n",
      " 'Clothing, Shoes & Jewelry.Girls.Shoes.Boots',\n",
      " 'Clothing, Shoes & Jewelry.Girls.Shoes.Clogs & Mules',\n",
      " 'Clothing, Shoes & Jewelry.Girls.Shoes.Sandals',\n",
      " 'Clothing, Shoes & Jewelry.Girls.Shoes.Slippers',\n",
      " 'Clothing, Shoes & Jewelry.Girls.Watches.Wrist Watches',\n",
      " 'Clothing, Shoes & Jewelry.Luggage & Travel Gear.Backpacks.Casual Daypacks',\n",
      " 'Clothing, Shoes & Jewelry.Luggage & Travel Gear.Gym Bags.Drawstring Bags',\n",
      " 'Clothing, Shoes & Jewelry.Luggage & Travel Gear.Gym Bags.Gym Totes',\n",
      " 'Clothing, Shoes & Jewelry.Luggage & Travel Gear.Gym Bags.Sports Duffels',\n",
      " 'Clothing, Shoes & Jewelry.Luggage & Travel Gear.Luggage.Carry-Ons',\n",
      " 'Clothing, Shoes & Jewelry.Luggage & Travel Gear.Luggage.Garment Bags',\n",
      " 'Clothing, Shoes & Jewelry.Luggage & Travel Gear.Luggage.Luggage Sets',\n",
      " 'Clothing, Shoes & Jewelry.Luggage & Travel Gear.Luggage.Suitcases',\n",
      " 'Clothing, Shoes & Jewelry.Luggage & Travel Gear.Luggage.Travel Duffels',\n",
      " 'Clothing, Shoes & Jewelry.Luggage & Travel Gear.Luggage.Travel Totes',\n",
      " 'Clothing, Shoes & Jewelry.Luggage & Travel Gear.Travel Accessories.Luggage '\n",
      " 'Locks',\n",
      " 'Clothing, Shoes & Jewelry.Luggage & Travel Gear.Travel Accessories.Luggage '\n",
      " 'Scales',\n",
      " 'Clothing, Shoes & Jewelry.Luggage & Travel Gear.Travel Accessories.Luggage '\n",
      " 'Straps',\n",
      " 'Clothing, Shoes & Jewelry.Luggage & Travel Gear.Travel Accessories.Luggage '\n",
      " 'Tags',\n",
      " 'Clothing, Shoes & Jewelry.Luggage & Travel Gear.Travel Accessories.Packing '\n",
      " 'Organizers',\n",
      " 'Clothing, Shoes & Jewelry.Luggage & Travel Gear.Travel Accessories.Passport '\n",
      " 'Covers',\n",
      " 'Clothing, Shoes & Jewelry.Luggage & Travel Gear.Travel Accessories.Passport '\n",
      " 'Wallets',\n",
      " 'Clothing, Shoes & Jewelry.Luggage & Travel Gear.Travel Accessories.Shoe Bags',\n",
      " 'Clothing, Shoes & Jewelry.Luggage & Travel Gear.Travel Accessories.Travel '\n",
      " 'Wallets',\n",
      " 'Clothing, Shoes & Jewelry.Men.Accessories.Belts',\n",
      " 'Clothing, Shoes & Jewelry.Men.Accessories.Bow Ties & Cummerbunds',\n",
      " 'Clothing, Shoes & Jewelry.Men.Accessories.Earmuffs',\n",
      " 'Clothing, Shoes & Jewelry.Men.Accessories.Gloves & Mittens',\n",
      " 'Clothing, Shoes & Jewelry.Men.Accessories.Handkerchiefs',\n",
      " 'Clothing, Shoes & Jewelry.Men.Accessories.Hats & Caps',\n",
      " 'Clothing, Shoes & Jewelry.Men.Accessories.Keyrings & Keychains',\n",
      " 'Clothing, Shoes & Jewelry.Men.Accessories.Neckties',\n",
      " 'Clothing, Shoes & Jewelry.Men.Accessories.Sunglasses & Eyewear Accessories',\n",
      " 'Clothing, Shoes & Jewelry.Men.Accessories.Suspenders',\n",
      " 'Clothing, Shoes & Jewelry.Men.Clothing.Active',\n",
      " 'Clothing, Shoes & Jewelry.Men.Clothing.Fashion Hoodies & Sweatshirts',\n",
      " 'Clothing, Shoes & Jewelry.Men.Clothing.Jackets & Coats',\n",
      " 'Clothing, Shoes & Jewelry.Men.Clothing.Jeans',\n",
      " 'Clothing, Shoes & Jewelry.Men.Clothing.Shirts',\n",
      " 'Clothing, Shoes & Jewelry.Men.Clothing.Socks',\n",
      " 'Clothing, Shoes & Jewelry.Men.Clothing.Underwear',\n",
      " 'Clothing, Shoes & Jewelry.Men.Jewelry.Cuff Links',\n",
      " 'Clothing, Shoes & Jewelry.Men.Jewelry.Tie Clips',\n",
      " 'Clothing, Shoes & Jewelry.Men.Shoes.Athletic',\n",
      " 'Clothing, Shoes & Jewelry.Men.Shoes.Boots',\n",
      " 'Clothing, Shoes & Jewelry.Men.Shoes.Fashion Sneakers',\n",
      " 'Clothing, Shoes & Jewelry.Men.Shoes.Loafers & Slip-Ons',\n",
      " 'Clothing, Shoes & Jewelry.Men.Shoes.Mules & Clogs',\n",
      " 'Clothing, Shoes & Jewelry.Men.Shoes.Sandals',\n",
      " 'Clothing, Shoes & Jewelry.Men.Shoes.Slippers',\n",
      " 'Clothing, Shoes & Jewelry.Men.Surf, Skate & Street.Clothing',\n",
      " 'Clothing, Shoes & Jewelry.Men.Watches.Pocket Watches',\n",
      " 'Clothing, Shoes & Jewelry.Men.Watches.Watch Bands',\n",
      " 'Clothing, Shoes & Jewelry.Men.Watches.Wrist Watches',\n",
      " 'Clothing, Shoes & Jewelry.Novelty, Costumes & More.Band & Music '\n",
      " 'Fan.Accessories',\n",
      " 'Clothing, Shoes & Jewelry.Novelty, Costumes & More.Band & Music '\n",
      " 'Fan.Sweatshirts',\n",
      " 'Clothing, Shoes & Jewelry.Novelty, Costumes & More.Band & Music Fan.T-Shirts',\n",
      " 'Clothing, Shoes & Jewelry.Novelty, Costumes & More.Body Jewelry.Belly Chains',\n",
      " 'Clothing, Shoes & Jewelry.Novelty, Costumes & More.Body Jewelry.Piercing '\n",
      " 'Jewelry',\n",
      " 'Clothing, Shoes & Jewelry.Novelty, Costumes & More.Body Jewelry.Toe Rings',\n",
      " 'Clothing, Shoes & Jewelry.Novelty, Costumes & More.Costumes & '\n",
      " 'Accessories.Costumes',\n",
      " 'Clothing, Shoes & Jewelry.Novelty, Costumes & More.Costumes & '\n",
      " 'Accessories.Hats & Caps',\n",
      " 'Clothing, Shoes & Jewelry.Novelty, Costumes & More.Costumes & '\n",
      " 'Accessories.Masks',\n",
      " 'Clothing, Shoes & Jewelry.Novelty, Costumes & More.Costumes & '\n",
      " 'Accessories.More Accessories',\n",
      " 'Clothing, Shoes & Jewelry.Novelty, Costumes & More.Costumes & '\n",
      " 'Accessories.Shoes',\n",
      " 'Clothing, Shoes & Jewelry.Novelty, Costumes & More.Costumes & '\n",
      " 'Accessories.Wigs',\n",
      " 'Clothing, Shoes & Jewelry.Novelty, Costumes & More.Exotic Apparel.Men',\n",
      " 'Clothing, Shoes & Jewelry.Novelty, Costumes & More.Exotic Apparel.Women',\n",
      " 'Clothing, Shoes & Jewelry.Novelty, Costumes & More.Jewelry '\n",
      " 'Accessories.Cleaning & Care',\n",
      " 'Clothing, Shoes & Jewelry.Novelty, Costumes & More.Jewelry '\n",
      " 'Accessories.Jewelry Boxes & Organizers',\n",
      " 'Clothing, Shoes & Jewelry.Novelty, Costumes & More.Movie & TV '\n",
      " 'Fan.Accessories',\n",
      " 'Clothing, Shoes & Jewelry.Novelty, Costumes & More.Novelty.Clothing',\n",
      " 'Clothing, Shoes & Jewelry.Novelty, Costumes & More.Novelty.Jewelry',\n",
      " 'Clothing, Shoes & Jewelry.Novelty, Costumes & More.Novelty.Watches',\n",
      " 'Clothing, Shoes & Jewelry.Novelty, Costumes & More.Shoe Care & '\n",
      " 'Accessories.Electric Shoe Polishers',\n",
      " 'Clothing, Shoes & Jewelry.Novelty, Costumes & More.Shoe Care & '\n",
      " 'Accessories.Ice & Snow Grips',\n",
      " 'Clothing, Shoes & Jewelry.Novelty, Costumes & More.Shoe Care & '\n",
      " 'Accessories.Polishes & Dyes',\n",
      " 'Clothing, Shoes & Jewelry.Novelty, Costumes & More.Shoe Care & '\n",
      " 'Accessories.Shoe & Boot Trees',\n",
      " 'Clothing, Shoes & Jewelry.Novelty, Costumes & More.Shoe Care & '\n",
      " 'Accessories.Shoe Bags',\n",
      " 'Clothing, Shoes & Jewelry.Novelty, Costumes & More.Shoe Care & '\n",
      " 'Accessories.Shoe Brushes',\n",
      " 'Clothing, Shoes & Jewelry.Novelty, Costumes & More.Shoe Care & '\n",
      " 'Accessories.Shoe Care Kits & Sets',\n",
      " 'Clothing, Shoes & Jewelry.Novelty, Costumes & More.Shoe Care & '\n",
      " 'Accessories.Shoe Decoration Charms',\n",
      " 'Clothing, Shoes & Jewelry.Novelty, Costumes & More.Shoe Care & '\n",
      " 'Accessories.Shoe Dryers',\n",
      " 'Clothing, Shoes & Jewelry.Novelty, Costumes & More.Shoe Care & '\n",
      " 'Accessories.Shoe Horns & Boot Jacks',\n",
      " 'Clothing, Shoes & Jewelry.Novelty, Costumes & More.Shoe Care & '\n",
      " 'Accessories.Shoelaces',\n",
      " 'Clothing, Shoes & Jewelry.Novelty, Costumes & More.Watch '\n",
      " 'Accessories.Cabinets & Cases',\n",
      " 'Clothing, Shoes & Jewelry.Novelty, Costumes & More.Watch Accessories.Pocket '\n",
      " 'Watch Chains',\n",
      " 'Clothing, Shoes & Jewelry.Novelty, Costumes & More.Watch Accessories.Repair '\n",
      " 'Tools & Kits',\n",
      " 'Clothing, Shoes & Jewelry.Novelty, Costumes & More.Watch Accessories.Watch '\n",
      " 'Winders',\n",
      " 'Clothing, Shoes & Jewelry.Novelty, Costumes & More.Work Wear & '\n",
      " 'Uniforms.Clothing',\n",
      " 'Clothing, Shoes & Jewelry.Women.Accessories.Belts',\n",
      " 'Clothing, Shoes & Jewelry.Women.Accessories.Earmuffs',\n",
      " 'Clothing, Shoes & Jewelry.Women.Accessories.Gloves & Mittens',\n",
      " 'Clothing, Shoes & Jewelry.Women.Accessories.Hats & Caps',\n",
      " 'Clothing, Shoes & Jewelry.Women.Accessories.Keyrings & Keychains',\n",
      " 'Clothing, Shoes & Jewelry.Women.Accessories.Wallets, Card Cases & Money '\n",
      " 'Organizers',\n",
      " 'Clothing, Shoes & Jewelry.Women.Clothing.Active',\n",
      " 'Clothing, Shoes & Jewelry.Women.Clothing.Coats & Jackets',\n",
      " 'Clothing, Shoes & Jewelry.Women.Clothing.Dresses',\n",
      " 'Clothing, Shoes & Jewelry.Women.Clothing.Fashion Hoodies & Sweatshirts',\n",
      " 'Clothing, Shoes & Jewelry.Women.Clothing.Jeans',\n",
      " 'Clothing, Shoes & Jewelry.Women.Clothing.Jumpsuits, Rompers & Overalls',\n",
      " 'Clothing, Shoes & Jewelry.Women.Clothing.Leggings',\n",
      " 'Clothing, Shoes & Jewelry.Women.Clothing.Lingerie, Sleep & Lounge',\n",
      " 'Clothing, Shoes & Jewelry.Women.Clothing.Tops & Tees',\n",
      " 'Clothing, Shoes & Jewelry.Women.Handbags & Wallets.Clutches',\n",
      " 'Clothing, Shoes & Jewelry.Women.Handbags & Wallets.Cross-Body Bags',\n",
      " 'Clothing, Shoes & Jewelry.Women.Handbags & Wallets.Evening Bags',\n",
      " 'Clothing, Shoes & Jewelry.Women.Handbags & Wallets.Shoulder Bags',\n",
      " 'Clothing, Shoes & Jewelry.Women.Handbags & Wallets.Top-Handle Bags',\n",
      " 'Clothing, Shoes & Jewelry.Women.Handbags & Wallets.Wristlets',\n",
      " 'Clothing, Shoes & Jewelry.Women.Jewelry.Fashion',\n",
      " 'Clothing, Shoes & Jewelry.Women.Jewelry.Religious',\n",
      " 'Clothing, Shoes & Jewelry.Women.Juniors.Shorts',\n",
      " 'Clothing, Shoes & Jewelry.Women.Maternity.Intimates',\n",
      " 'Clothing, Shoes & Jewelry.Women.Maternity.Sleep & Lounge',\n",
      " 'Clothing, Shoes & Jewelry.Women.Maternity.Tights & Hosiery',\n",
      " 'Clothing, Shoes & Jewelry.Women.Petite.Active',\n",
      " 'Clothing, Shoes & Jewelry.Women.Petite.Leggings',\n",
      " 'Clothing, Shoes & Jewelry.Women.Petite.Outerwear & Coats',\n",
      " 'Clothing, Shoes & Jewelry.Women.Petite.Socks & Hosiery',\n",
      " 'Clothing, Shoes & Jewelry.Women.Plus-Size.Jackets & Coats',\n",
      " 'Clothing, Shoes & Jewelry.Women.Shoes.Boots',\n",
      " 'Clothing, Shoes & Jewelry.Women.Shoes.Fashion Sneakers',\n",
      " 'Clothing, Shoes & Jewelry.Women.Shoes.Flats',\n",
      " 'Clothing, Shoes & Jewelry.Women.Shoes.Loafers & Slip-Ons',\n",
      " 'Clothing, Shoes & Jewelry.Women.Shoes.Mules & Clogs',\n",
      " 'Clothing, Shoes & Jewelry.Women.Shoes.Pumps',\n",
      " 'Clothing, Shoes & Jewelry.Women.Shoes.Sandals',\n",
      " 'Clothing, Shoes & Jewelry.Women.Shoes.Slippers',\n",
      " 'Clothing, Shoes & Jewelry.Women.Watches.Pocket Watches',\n",
      " 'Clothing, Shoes & Jewelry.Women.Watches.Watch Bands',\n",
      " 'Clothing, Shoes & Jewelry.Women.Watches.Wrist Watches'}\n"
     ]
    }
   ],
   "source": [
    "stuff = []\n",
    "uniqs = set()\n",
    "for _, item in enumerate(items):\n",
    "    if len(item['categories']) > 1:\n",
    "        continue\n",
    "    \n",
    "#     print(item['categories'][0][0])\n",
    "#     for i, category in enumerate(item['categories']):\n",
    "#         item['categories {}'.format(i)] = '.'.join(category)\n",
    "    item['category'] = '.'.join(item['categories'][0])\n",
    "    uniqs.add(item['category'] )\n",
    "    \n",
    "        \n",
    "    stuff.append(item)\n",
    "\n",
    "df = pd.DataFrame(stuff)\n",
    "\n",
    "pprint(uniqs)"
   ]
  },
  {
   "cell_type": "code",
   "execution_count": 3,
   "metadata": {},
   "outputs": [],
   "source": [
    "cats_2_get = [\n",
    "    'Clothing, Shoes & Jewelry.Women.Shoes.Boots',\n",
    "        'Clothing, Shoes & Jewelry.Women.Shoes.Fashion Sneakers',\n",
    "    'Clothing, Shoes & Jewelry.Novelty, Costumes & More.Shoe Care & Accessories.Polishes & Dyes',\n",
    "    'Clothing, Shoes & Jewelry.Novelty, Costumes & More.Jewelry Accessories.Cleaning & Care',\n",
    "]\n",
    "\n",
    "cats_2_get_set = set(cats_2_get)"
   ]
  },
  {
   "cell_type": "code",
   "execution_count": 6,
   "metadata": {},
   "outputs": [],
   "source": [
    "np.random.seed(1)\n",
    "\n",
    "dfs = []\n",
    "for cat in cats_2_get:\n",
    "    tmp_df = df[df['category']==cat].copy().sample(3)\n",
    "    dfs.append(tmp_df)\n",
    "\n",
    "sampled_df = pd.concat(dfs)"
   ]
  },
  {
   "cell_type": "code",
   "execution_count": 7,
   "metadata": {},
   "outputs": [
    {
     "name": "stdout",
     "output_type": "stream",
     "text": [
      "12\n"
     ]
    },
    {
     "data": {
      "text/plain": [
       "[1038, 1064, 1492, 3128, 3792, 4131, 4283, 4517, 4658, 5319, 5711, 7216]"
      ]
     },
     "execution_count": 7,
     "metadata": {},
     "output_type": "execute_result"
    }
   ],
   "source": [
    "\n",
    "indices = []\n",
    "for i, item in enumerate(stuff):\n",
    "    if item['asin'] in set(sampled_df['asin'].tolist()):\n",
    "        indices.append(i)\n",
    "\n",
    "print(len(indices))\n",
    "indices"
   ]
  },
  {
   "cell_type": "code",
   "execution_count": 8,
   "metadata": {},
   "outputs": [],
   "source": [
    "def stemmer(doc):\n",
    "    stemmer = SnowballStemmer('english', ignore_stopwords=False)\n",
    "    stop_words = set(stopwords.words('english')) \n",
    "    stop_words &= set(['afterward', 'afterwards'])\n",
    "    return (stemmer.stem(w) for w in preprocessing(doc, stop_words))\n",
    "\n",
    "def preprocessing(doc, stop_words):\n",
    "    doc = word_tokenize(doc.lower())  # Split into words.\n",
    "    return (w for w in doc if w not in stop_words and w.isalpha())\n",
    "\n",
    "def get_tfidf(products):\n",
    "    names = ['title', 'description']\n",
    "    \n",
    "    products['description'] = products['description'].fillna(' ')\n",
    "\n",
    "    # Here is a more pandas-like style\n",
    "    products['full_text'] = (products[['title', 'description']]\n",
    "                             .apply(lambda x: '{} {}'\n",
    "                             .format(x[0], x[1]), axis=1))\n",
    "    doc = products['full_text'].tolist()\n",
    "#     doc = products['description'].tolist()\n",
    "\n",
    "    stop_words = set(stopwords.words('english')) \n",
    "    stop_words &= set(['afterward', 'afterwards', 'this', 'these', 'of', 'a',\n",
    "                       'was', 'were', 'there', 'where', 'those', 'do', 'did',\n",
    "                       'is', 'are', 'do', 'does', 'take', 'takes', 'the', 'it'])\n",
    "#     stop_words &= set(pd.read_csv('./helpdata/stopwords.csv').iloc[:, 0]) \n",
    "\n",
    "\n",
    "    n_features = 10000\n",
    "\n",
    "#     tfidf_vectorizer = TfidfVectorizer(analyzer=stemmer, \n",
    "#                                        max_df=.8, \n",
    "# #                                        min_df=1, \n",
    "#                                        max_features=n_features,\n",
    "# #                                        sublinear_tf=True,\n",
    "#                                        ngram_range=(1,4),\n",
    "#                                        stop_words=stop_words)\n",
    "    tfidf_vectorizer = TfidfVectorizer(\n",
    "        preprocessor=lambda x: re.sub(r'(\\d[\\d\\.])+', 'NUM', x.lower()),\n",
    "        sublinear_tf=True,\n",
    "#         max_df=0.95,\n",
    "#         min_df=0.9,\n",
    "#         stop_words=list(stop_words), \n",
    "#                                        ngram_range=(1,2)\n",
    "    )\n",
    "    tfidf = tfidf_vectorizer.fit_transform(doc)\n",
    "#     tfidf_feature_names = tfidf_vectorizer.get_feature_names()\n",
    "\n",
    "    return tfidf, tfidf_vectorizer\n",
    "#     categories = products['categories'].apply(lambda x: x.strip('/'))     \n",
    "#     target_names = categories.unique().tolist()\n",
    "#     tgt_name_dict = OrderedDict([(tgt_name, i) \n",
    "#                                  for i, tgt_name in enumerate(target_names)])\n",
    "\n",
    "#     target = categories.apply(lambda x: tgt_name_dict[x]) \n"
   ]
  },
  {
   "cell_type": "code",
   "execution_count": 9,
   "metadata": {},
   "outputs": [],
   "source": [
    "tfidf, tfidf_vectorizer = get_tfidf(df)"
   ]
  },
  {
   "cell_type": "code",
   "execution_count": 10,
   "metadata": {},
   "outputs": [
    {
     "data": {
      "text/plain": [
       "20873"
      ]
     },
     "execution_count": 10,
     "metadata": {},
     "output_type": "execute_result"
    }
   ],
   "source": [
    "feats = tfidf_vectorizer.get_feature_names()\n",
    "feats = np.array(feats)\n",
    "len(feats)"
   ]
  },
  {
   "cell_type": "code",
   "execution_count": 11,
   "metadata": {},
   "outputs": [
    {
     "data": {
      "text/plain": [
       "(7590, 20873)"
      ]
     },
     "execution_count": 11,
     "metadata": {},
     "output_type": "execute_result"
    }
   ],
   "source": [
    "tfidf.shape"
   ]
  },
  {
   "cell_type": "code",
   "execution_count": 67,
   "metadata": {
    "scrolled": true
   },
   "outputs": [],
   "source": [
    "# proc_vals = tfidf[indices, :]\n",
    "# indices = [204, 43, 290, 1743, 2001, 3332, 4211, 5000, 6239, 7120]\n",
    "# for ind in indices:\n",
    "#     val = np.squeeze(np.asarray(tfidf[ind, :].todense()))\n",
    "#     s_inds = np.argsort(-val).tolist()\n",
    "    \n",
    "#     print(items[ind]['title'])\n",
    "#     print(items[ind]['categories'])\n",
    "#     for i in range(50):\n",
    "#         print(feats[s_inds[i]], ': \\t\\t\\t', val[s_inds[i]])\n",
    "    \n",
    "#     print()\n"
   ]
  },
  {
   "cell_type": "code",
   "execution_count": 15,
   "metadata": {},
   "outputs": [
    {
     "name": "stdout",
     "output_type": "stream",
     "text": [
      "                                                                                                   item  \\\n",
      "0   Xelement Womens Dark Brown Crushed Super Harness Boots - 7                                            \n",
      "1   Meltonian Shoe Cream Polish, Med Brown [Apparel] [Misc.]                                              \n",
      "2   Mizuno Wave Ascend 4 Womens SZ 9.5 Silver Running 40.5 EU 7 UK Shoes                                  \n",
      "3   Kiwi Sport Whitener                                                                                   \n",
      "4   Coach Barrett Poppy Scribble Multi Shoes Sneakers 8                                                   \n",
      "5   Biker Boot Straps Boot Straps - 6in. - Studded Peace BBS/SP6                                          \n",
      "6   Aircraft Tool Supply Ultrasonic Solution (Jewelry)                                                    \n",
      "7   TRG the One Self Shine Leather Dye Kit #165 Turquoise                                                 \n",
      "8   Anti-Tarnish Silver Cloth - Cadet                                                                     \n",
      "9   Ryka Womens Rhythmic+ Low Synthetic-And-Mesh Cross Training (6.5 B(M) US Womens, Black/Athena Pink)   \n",
      "10  Joy4Less Professional Grade Ultrasonic Cleaner 4820WPT with Heater and Digital Timer                  \n",
      "11  Boot Cuffs Socks White                                                                                \n",
      "\n",
      "                                                                                      category  \\\n",
      "0   Clothing, Shoes & Jewelry.Women.Shoes.Boots                                                  \n",
      "1   Clothing, Shoes & Jewelry.Novelty, Costumes & More.Shoe Care & Accessories.Polishes & Dyes   \n",
      "2   Clothing, Shoes & Jewelry.Women.Shoes.Fashion Sneakers                                       \n",
      "3   Clothing, Shoes & Jewelry.Novelty, Costumes & More.Shoe Care & Accessories.Polishes & Dyes   \n",
      "4   Clothing, Shoes & Jewelry.Women.Shoes.Fashion Sneakers                                       \n",
      "5   Clothing, Shoes & Jewelry.Women.Shoes.Boots                                                  \n",
      "6   Clothing, Shoes & Jewelry.Novelty, Costumes & More.Jewelry Accessories.Cleaning & Care       \n",
      "7   Clothing, Shoes & Jewelry.Novelty, Costumes & More.Shoe Care & Accessories.Polishes & Dyes   \n",
      "8   Clothing, Shoes & Jewelry.Novelty, Costumes & More.Jewelry Accessories.Cleaning & Care       \n",
      "9   Clothing, Shoes & Jewelry.Women.Shoes.Fashion Sneakers                                       \n",
      "10  Clothing, Shoes & Jewelry.Novelty, Costumes & More.Jewelry Accessories.Cleaning & Care       \n",
      "11  Clothing, Shoes & Jewelry.Women.Shoes.Boots                                                  \n",
      "\n",
      "                                                                                                                                                                                            terms  \n",
      "0   welt (0.2126), harness (0.208), term (0.2031), boots (0.1785), dark (0.1642), womens (0.1636), year (0.1629), tougher (0.1608), durability (0.1579), brown (0.151),                            \n",
      "1   meltonian (0.2657), waxes (0.2525), cream (0.2342), afterwards (0.1781), misc (0.1703), cloth (0.1651), honored (0.1604), staining (0.1604), creamy (0.1604), agents (0.1569),                 \n",
      "2   ascend (0.4351), mizuno (0.3761), wave (0.3343), eu (0.2457), lends (0.2264), sz (0.2095), uk (0.1974), shoes (0.1889), china (0.1758), outsole (0.1658),                                      \n",
      "3   whitener (0.5445), kiwi (0.3537), chalky (0.3216), sport (0.2874), restores (0.2539), formula (0.2381), scuffs (0.2366), covers (0.2103), polish (0.2026), natural (0.1737),                   \n",
      "4   coach (0.4085), sneakers (0.2734), signature (0.2192), emerged (0.198), preeminent (0.198), barrett (0.198), scribble (0.1893), poppy (0.1893), resulting (0.1893), aNUM (0.1745),             \n",
      "5   6in (0.2119), prevent (0.185), clips (0.1817), boot (0.1676), sp6 (0.1601), sold (0.1566), straps (0.1521), riderclips (0.141), spinningstraps (0.141), individuallymade (0.141),              \n",
      "6   components (0.2153), solution (0.2139), metals (0.2116), cleaning (0.191), precious (0.1771), injectors (0.1626), titanium1 (0.1626), accumulate (0.1626), phospate (0.1626), msds (0.1626),   \n",
      "7   trg (0.363), dye (0.3313), kit (0.2881), included (0.2453), turquoise (0.2319), coats (0.2231), detailed (0.2067), leather (0.2035), instructions (0.2005), drying (0.1877),                   \n",
      "8   tarnishing (0.257), tarnish (0.2107), silvershield (0.1885), cadet (0.1885), silver (0.1658), drawer (0.1542), cloth (0.1521), anti (0.1511), shining (0.148), trade (0.1416),                 \n",
      "9   ryka (0.4022), rythmic (0.3537), fitness (0.2062), fittest (0.1685), cardio (0.1685), athena (0.1685), rhythmic (0.1611), grueling (0.1611), kickboxing (0.1611), gain (0.1611),               \n",
      "10  ultrasonic (0.3054), heater (0.3052), grade (0.2931), qt (0.221), joy4less (0.221), NUMwpt (0.221), professional (0.2183), cleaner (0.2135), controls (0.1948), automotive (0.1948),           \n",
      "11  cuffs (0.418), boot (0.3262), dead (0.3079), gorgeous (0.2599), season (0.2492), drop (0.2394), lace (0.2299), put (0.2257), socks (0.2202), some (0.2143),                                    \n"
     ]
    }
   ],
   "source": [
    "out_df = pd.DataFrame()\n",
    "\n",
    "item_names = []\n",
    "categories = []\n",
    "top_terms = []\n",
    "for ind in indices:\n",
    "    val = np.squeeze(np.asarray(tfidf[ind, :].todense()))\n",
    "    s_inds = np.argsort(-val).tolist()\n",
    "    \n",
    "    item_names.append(items[ind]['title'])\n",
    "    categories.append(items[ind]['category'])\n",
    "    tmp_str = ''\n",
    "    for i in range(10):\n",
    "        tmp_str += '{} ({}), '.format(feats[s_inds[i]], round(val[s_inds[i]], 4))\n",
    "    top_terms.append(tmp_str)\n",
    "\n",
    "out_df['item'] = item_names\n",
    "out_df['category'] = categories\n",
    "out_df['terms'] = top_terms\n",
    "print(out_df)"
   ]
  },
  {
   "cell_type": "code",
   "execution_count": 285,
   "metadata": {},
   "outputs": [],
   "source": [
    "out_df.to_latex('amzon_table.tex', index=False)"
   ]
  },
  {
   "cell_type": "code",
   "execution_count": 16,
   "metadata": {},
   "outputs": [
    {
     "data": {
      "text/plain": [
       "<12x20873 sparse matrix of type '<class 'numpy.float64'>'\n",
       "\twith 651 stored elements in Compressed Sparse Row format>"
      ]
     },
     "execution_count": 16,
     "metadata": {},
     "output_type": "execute_result"
    }
   ],
   "source": [
    "tfidf[indices, :]"
   ]
  },
  {
   "cell_type": "code",
   "execution_count": 17,
   "metadata": {},
   "outputs": [
    {
     "data": {
      "text/plain": [
       "[1038, 1064, 1492, 3128, 3792, 4131, 4283, 4517, 4658, 5319, 5711, 7216]"
      ]
     },
     "execution_count": 17,
     "metadata": {},
     "output_type": "execute_result"
    }
   ],
   "source": [
    "indices"
   ]
  },
  {
   "cell_type": "code",
   "execution_count": 18,
   "metadata": {},
   "outputs": [],
   "source": []
  },
  {
   "cell_type": "code",
   "execution_count": 19,
   "metadata": {},
   "outputs": [],
   "source": [
    "scipy.sparse.save_npz('amazon_hqs.npz', tfidf[indices, :])"
   ]
  },
  {
   "cell_type": "code",
   "execution_count": 49,
   "metadata": {},
   "outputs": [],
   "source": [
    "\n",
    "out_df.to_csv('amazon_items.csv', sep='\\t')"
   ]
  },
  {
   "cell_type": "code",
   "execution_count": 74,
   "metadata": {},
   "outputs": [],
   "source": [
    "from sklearn.metrics.pairwise import cosine_similarity\n",
    "\n",
    "import seaborn as sns\n"
   ]
  },
  {
   "cell_type": "code",
   "execution_count": 75,
   "metadata": {},
   "outputs": [
    {
     "data": {
      "text/plain": [
       "array([[1.        , 0.040234  , 0.07306416, 0.0096784 , 0.0549833 ,\n",
       "        0.06410185, 0.02575936, 0.05100819, 0.0329296 , 0.05699416,\n",
       "        0.00654179, 0.05588291],\n",
       "       [0.040234  , 1.        , 0.02141424, 0.0849532 , 0.03344453,\n",
       "        0.02838375, 0.02052255, 0.0459972 , 0.11526014, 0.03060874,\n",
       "        0.01376874, 0.03039898],\n",
       "       [0.07306416, 0.02141424, 1.        , 0.00182512, 0.07239409,\n",
       "        0.02642157, 0.00641389, 0.02680092, 0.04272571, 0.06337989,\n",
       "        0.01661858, 0.00532452],\n",
       "       [0.0096784 , 0.0849532 , 0.00182512, 1.        , 0.00335639,\n",
       "        0.00238598, 0.00813856, 0.0141038 , 0.01875337, 0.00285661,\n",
       "        0.00265823, 0.00274235],\n",
       "       [0.0549833 , 0.03344453, 0.07239409, 0.00335639, 1.        ,\n",
       "        0.02517577, 0.00528407, 0.04044919, 0.02983306, 0.01543032,\n",
       "        0.00980672, 0.04027933],\n",
       "       [0.06410185, 0.02838375, 0.02642157, 0.00238598, 0.02517577,\n",
       "        1.        , 0.03116507, 0.0621242 , 0.06456963, 0.02649651,\n",
       "        0.01671711, 0.06814066],\n",
       "       [0.02575936, 0.02052255, 0.00641389, 0.00813856, 0.00528407,\n",
       "        0.03116507, 1.        , 0.03159404, 0.03344934, 0.01439825,\n",
       "        0.07790887, 0.00907236],\n",
       "       [0.05100819, 0.0459972 , 0.02680092, 0.0141038 , 0.04044919,\n",
       "        0.0621242 , 0.03159404, 1.        , 0.02840095, 0.03137125,\n",
       "        0.02849873, 0.00856061],\n",
       "       [0.0329296 , 0.11526014, 0.04272571, 0.01875337, 0.02983306,\n",
       "        0.06456963, 0.03344934, 0.02840095, 1.        , 0.03227668,\n",
       "        0.06225249, 0.01007494],\n",
       "       [0.05699416, 0.03060874, 0.06337989, 0.00285661, 0.01543032,\n",
       "        0.02649651, 0.01439825, 0.03137125, 0.03227668, 1.        ,\n",
       "        0.02989504, 0.00592301],\n",
       "       [0.00654179, 0.01376874, 0.01661858, 0.00265823, 0.00980672,\n",
       "        0.01671711, 0.07790887, 0.02849873, 0.06225249, 0.02989504,\n",
       "        1.        , 0.011025  ],\n",
       "       [0.05588291, 0.03039898, 0.00532452, 0.00274235, 0.04027933,\n",
       "        0.06814066, 0.00907236, 0.00856061, 0.01007494, 0.00592301,\n",
       "        0.011025  , 1.        ]])"
      ]
     },
     "execution_count": 75,
     "metadata": {},
     "output_type": "execute_result"
    }
   ],
   "source": [
    "cos_mat = cosine_similarity(tfidf[indices, :])\n",
    "cos_mat "
   ]
  },
  {
   "cell_type": "code",
   "execution_count": null,
   "metadata": {},
   "outputs": [],
   "source": []
  },
  {
   "cell_type": "code",
   "execution_count": 78,
   "metadata": {},
   "outputs": [
    {
     "data": {
      "text/plain": [
       "<matplotlib.axes._subplots.AxesSubplot at 0x7f861b1d9390>"
      ]
     },
     "execution_count": 78,
     "metadata": {},
     "output_type": "execute_result"
    },
    {
     "data": {
      "image/png": "[encoded data removed]",
      "text/plain": [
       "<Figure size 432x288 with 2 Axes>"
      ]
     },
     "metadata": {
      "needs_background": "light"
     },
     "output_type": "display_data"
    }
   ],
   "source": [
    "sns.heatmap(cos_mat - np.eye(12))"
   ]
  },
  {
   "cell_type": "code",
   "execution_count": null,
   "metadata": {},
   "outputs": [],
   "source": []
  }
 ],
 "metadata": {
  "kernelspec": {
   "display_name": "Python 3",
   "language": "python",
   "name": "python3"
  },
  "language_info": {
   "codemirror_mode": {
    "name": "ipython",
    "version": 3
   },
   "file_extension": ".py",
   "mimetype": "text/x-python",
   "name": "python",
   "nbconvert_exporter": "python",
   "pygments_lexer": "ipython3",
   "version": "3.7.3"
  }
 },
 "nbformat": 4,
 "nbformat_minor": 2
}
