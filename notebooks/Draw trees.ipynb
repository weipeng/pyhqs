{
 "cells": [
  {
   "cell_type": "code",
   "execution_count": 1,
   "metadata": {},
   "outputs": [],
   "source": [
    "import networkx as nx\n",
    "import numpy as np\n",
    "import pandas as pd\n",
    "\n",
    "import sys\n",
    "sys.path.append('../hierarchies/')\n",
    "\n",
    "from ete3 import *\n",
    "from treeutil import *\n",
    "import ujson as json"
   ]
  },
  {
   "cell_type": "code",
   "execution_count": 4,
   "metadata": {},
   "outputs": [],
   "source": [
    "def save_json(obj, fname):\n",
    "    with open(fname, 'w') as f:\n",
    "        json.dump(obj, f)\n"
   ]
  },
  {
   "cell_type": "code",
   "execution_count": 2,
   "metadata": {},
   "outputs": [
    {
     "name": "stdout",
     "output_type": "stream",
     "text": [
      "['Women Boots', 'Shoe Cream', 'Women Runner', 'Whitener', 'Sneaker', 'Biker Boot Straps ', 'Jewel Solution', 'Dye Kit', 'Silver Cloth', 'Woman Trainer ', 'Ultrasonic Cleaner ', 'Boot Socks ']\n",
      "12\n"
     ]
    }
   ],
   "source": [
    "df = pd.read_csv('/home/kraken/Tmp/amazon_items.csv', sep='\\t')\n",
    "short_names = df['short name'].tolist()\n",
    "print(short_names)\n",
    "print(len(short_names))"
   ]
  },
  {
   "cell_type": "code",
   "execution_count": 3,
   "metadata": {},
   "outputs": [],
   "source": [
    "def Z_to_etetree_v2(n, Z, names):\n",
    "    ''' Convert a networkx directed graph to an ete tree '''\n",
    "    assert n == len(names), print(n, len(names))\n",
    "\n",
    "#     attempts = ['a', 'b', 'c', 'd', 'e', 'f', 'g']\n",
    "    \n",
    "    m = len(Z)\n",
    "    strs = np.array(['' for i in range(n+m)], dtype=object)\n",
    "    strs[:n] = names[:] \n",
    "\n",
    "    for i in range(m):\n",
    "        tree_str = ','.join(map(str, strs[Z[i]])) \n",
    "        strs[i+n] = '({}){}'.format(tree_str, i)\n",
    "    else:\n",
    "        ete_tree = '({});'.format(strs[-1])\n",
    "\n",
    "    return ete_tree\n"
   ]
  },
  {
   "cell_type": "code",
   "execution_count": 5,
   "metadata": {},
   "outputs": [
    {
     "name": "stdout",
     "output_type": "stream",
     "text": [
      "12 0\n",
      "12 1\n",
      "12 2\n",
      "13 3\n",
      "13 4\n",
      "13 5\n",
      "14 6\n",
      "14 7\n",
      "14 8\n",
      "15 9\n",
      "15 10\n",
      "15 11\n"
     ]
    }
   ],
   "source": [
    "\n",
    "G = nx.DiGraph()\n",
    "\n",
    "rand_list = np.arange(12)\n",
    "np.random.shuffle(rand_list)\n",
    "rand_list\n",
    "\n",
    "edges = []\n",
    "\n",
    "cur_node = 12 \n",
    "for i in range(4):\n",
    "    count = 0 \n",
    "    while count < 3:\n",
    "        print(cur_node, i*3+count)\n",
    "        edges.append((cur_node, rand_list[i*3+count]))\n",
    "        count += 1\n",
    "    \n",
    "    cur_node += 1\n",
    "\n",
    "edges.append((16, 12))\n",
    "edges.append((16, 13))\n",
    "edges.append((17, 14))\n",
    "edges.append((17, 15))\n",
    "edges.append((18, 16))\n",
    "edges.append((18, 17))\n",
    "\n",
    "G.add_edges_from(edges)"
   ]
  },
  {
   "cell_type": "code",
   "execution_count": null,
   "metadata": {},
   "outputs": [],
   "source": [
    "nx.draw_networkx(G)"
   ]
  },
  {
   "cell_type": "code",
   "execution_count": 10,
   "metadata": {},
   "outputs": [],
   "source": [
    "Z = tree_to_Z(7, 12, G)\n",
    "for i in range(len(Z)):\n",
    "    Z[i] = list(map(int, Z[i]))\n",
    "\n",
    "save_json(Z, 'amazon_tree_1_Z.json')\n",
    "tree_str = Z_to_etetree_v2(12, Z, short_names)"
   ]
  },
  {
   "cell_type": "code",
   "execution_count": null,
   "metadata": {},
   "outputs": [],
   "source": [
    "def draw_tree(tree_str, out_name):\n",
    "    t = Tree(tree_str, format=1)\n",
    "    ts = TreeStyle()\n",
    "    ts.show_leaf_name = False\n",
    "    # ts.rotation = 90\n",
    "    def my_layout(node):\n",
    "        F = TextFace(node.name, tight_text=True)\n",
    "        add_face_to_node(F, node, column=0, position=\"branch-right\")\n",
    "    ts.layout_fn = my_layout\n",
    "\n",
    "    ts.branch_vertical_margin = 10 # 10 pixels between adjacent branches\n",
    "#     t.show(tree_style=ts)\n",
    "    t.render(out_name, tree_style=ts, dpi=900, w=900)"
   ]
  },
  {
   "cell_type": "code",
   "execution_count": null,
   "metadata": {},
   "outputs": [],
   "source": [
    "draw_tree(tree_str, 'amazon_tree_1.pdf')"
   ]
  },
  {
   "cell_type": "code",
   "execution_count": 12,
   "metadata": {},
   "outputs": [
    {
     "name": "stdout",
     "output_type": "stream",
     "text": [
      "[(12, 0), (12, 5), (12, 11), (13, 1), (13, 3), (13, 7), (14, 6), (14, 8), (14, 10), (15, 2), (15, 4), (15, 9), (16, 12), (16, 15), (17, 13), (18, 14), (19, 16), (20, 17), (20, 18), (21, 19), (21, 20)]\n"
     ]
    }
   ],
   "source": [
    "# Generating the ground truth hierarchy\n",
    "# \n",
    "#\n",
    "a1 = [0, 5, 11]  # boots\n",
    "a2 = [1, 3, 7]   # Dyes\n",
    "a3 = [6, 8, 10]  # Care\n",
    "a4 = [2, 4, 9]   # sneakers\n",
    "\n",
    "b1 = [a1, a4]    # shoes\n",
    "b2 = [a2]        # shoe care\n",
    "b3 = [a3]        # Jewel cleaning\n",
    "\n",
    "c1 = [b1, b2, b3]\n",
    "\n",
    "\n",
    "A = [\n",
    "    [0, 5, 11],  # boots\n",
    "    [1, 3, 7],   # Dyes\n",
    "    [6, 8, 10],  # Care\n",
    "    [2, 4, 9]    # sneakers\n",
    "]    \n",
    "B = [[0, 3], [1], [2]]\n",
    "C = [[0], [1, 2]]\n",
    "\n",
    "\n",
    "G = nx.DiGraph()\n",
    "\n",
    "rand_list = np.arange(12)\n",
    "\n",
    "edges = []\n",
    "\n",
    "cur_node = 12\n",
    "node_map = {}\n",
    "for i in range(len(A)):\n",
    "    node_map[i] = cur_node\n",
    "    for node in A[i]:\n",
    "        edges.append((cur_node, node))\n",
    "    cur_node += 1\n",
    "\n",
    "node_map2 = {}\n",
    "for i in range(len(B)):\n",
    "    node_map2[i] = cur_node\n",
    "    for node in B[i]:\n",
    "        node = node_map[node]\n",
    "        edges.append((cur_node, node))    \n",
    "    cur_node += 1\n",
    "    \n",
    "D = []\n",
    "for i in range(len(C)):\n",
    "    for node in C[i]:\n",
    "        node = node_map2[node]\n",
    "        edges.append((cur_node, node))\n",
    "    D.append(cur_node)\n",
    "    cur_node += 1\n",
    "\n",
    "for node in D:\n",
    "    edges.append((cur_node, node))\n",
    "    \n",
    "G.add_edges_from(edges)\n",
    "\n",
    "print(edges)"
   ]
  },
  {
   "cell_type": "code",
   "execution_count": null,
   "metadata": {},
   "outputs": [],
   "source": [
    "nx.draw_networkx(G)"
   ]
  },
  {
   "cell_type": "code",
   "execution_count": 13,
   "metadata": {},
   "outputs": [],
   "source": [
    "# 8 = number of nodes - 12 \n",
    "Z = tree_to_Z(10, 12, G)\n",
    "for i in range(len(Z)):\n",
    "    Z[i] = list(map(int, Z[i]))\n",
    "    \n",
    "save_json(Z, 'amazon_tree_3_Z.json')\n",
    "tree_str = Z_to_etetree_v2(12, Z, short_names)"
   ]
  },
  {
   "cell_type": "code",
   "execution_count": null,
   "metadata": {},
   "outputs": [],
   "source": [
    "draw_tree(tree_str, 'amazon_tree_3.pdf')"
   ]
  },
  {
   "cell_type": "code",
   "execution_count": null,
   "metadata": {},
   "outputs": [],
   "source": []
  },
  {
   "cell_type": "code",
   "execution_count": null,
   "metadata": {},
   "outputs": [],
   "source": []
  }
 ],
 "metadata": {
  "kernelspec": {
   "display_name": "Python 3",
   "language": "python",
   "name": "python3"
  },
  "language_info": {
   "codemirror_mode": {
    "name": "ipython",
    "version": 3
   },
   "file_extension": ".py",
   "mimetype": "text/x-python",
   "name": "python",
   "nbconvert_exporter": "python",
   "pygments_lexer": "ipython3",
   "version": "3.7.3"
  }
 },
 "nbformat": 4,
 "nbformat_minor": 2
}
